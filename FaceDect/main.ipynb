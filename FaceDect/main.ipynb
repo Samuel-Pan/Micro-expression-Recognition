{
 "cells": [
  {
   "cell_type": "code",
   "execution_count": 1,
   "metadata": {},
   "outputs": [
    {
     "name": "stderr",
     "output_type": "stream",
     "text": [
      "c:\\Users\\Samuel Pan\\AppData\\Local\\Programs\\Python\\Python38\\lib\\site-packages\\tqdm\\auto.py:21: TqdmWarning: IProgress not found. Please update jupyter and ipywidgets. See https://ipywidgets.readthedocs.io/en/stable/user_install.html\n",
      "  from .autonotebook import tqdm as notebook_tqdm\n"
     ]
    },
    {
     "name": "stdout",
     "output_type": "stream",
     "text": [
      "(576, 1024, 3)\n"
     ]
    },
    {
     "name": "stderr",
     "output_type": "stream",
     "text": [
      "\n",
      "0: 384x640 1 face, 24.1ms\n",
      "Speed: 7.7ms preprocess, 24.1ms inference, 26.0ms postprocess per image at shape (1, 3, 384, 640)\n"
     ]
    },
    {
     "name": "stdout",
     "output_type": "stream",
     "text": [
      "ultralytics.engine.results.Boxes object with attributes:\n",
      "\n",
      "cls: tensor([0.], device='cuda:0')\n",
      "conf: tensor([0.8591], device='cuda:0')\n",
      "data: tensor([[462.1327, 202.0039, 616.7263, 415.3305,   0.8591,   0.0000]], device='cuda:0')\n",
      "id: None\n",
      "is_track: False\n",
      "orig_shape: (576, 1024)\n",
      "shape: torch.Size([1, 6])\n",
      "xywh: tensor([[539.4295, 308.6672, 154.5935, 213.3267]], device='cuda:0')\n",
      "xywhn: tensor([[0.5268, 0.5359, 0.1510, 0.3704]], device='cuda:0')\n",
      "xyxy: tensor([[462.1327, 202.0039, 616.7263, 415.3305]], device='cuda:0')\n",
      "xyxyn: tensor([[0.4513, 0.3507, 0.6023, 0.7211]], device='cuda:0')\n",
      "1\n",
      "[[462.1327209472656, 202.0038604736328, 616.7262573242188, 415.3305358886719]]\n",
      "[462.1327209472656, 202.0038604736328, 616.7262573242188, 415.3305358886719]\n"
     ]
    }
   ],
   "source": [
    "from ultralytics import YOLO\n",
    "import cv2\n",
    "model = YOLO('../models/best.pt')\n",
    "img = cv2.imread('kaggle/images/train/0b416cde54059c09.jpg')\n",
    "print(img.shape)\n",
    "results = model(img)\n",
    "for r in results:\n",
    "    print(r.boxes)\n",
    "    pred_box = r.boxes.xyxy.tolist()\n",
    "    print(len(pred_box))\n",
    "    print(pred_box)\n",
    "    pred_boxes = r.boxes.xyxy[0].tolist()  # 将tensor转换为list\n",
    "print(pred_boxes)\n",
    "crop = cv2.rectangle(img, (int(pred_boxes[0]), int(pred_boxes[1])), (int(pred_boxes[2]), int(pred_boxes[3])), (0, 255, 0), 2)\n",
    "\n",
    "cv2.imshow('crop', crop)\n",
    "cv2.waitKey(0)\n",
    "cv2.destroyAllWindows()"
   ]
  }
 ],
 "metadata": {
  "kernelspec": {
   "display_name": "Python 3",
   "language": "python",
   "name": "python3"
  },
  "language_info": {
   "codemirror_mode": {
    "name": "ipython",
    "version": 3
   },
   "file_extension": ".py",
   "mimetype": "text/x-python",
   "name": "python",
   "nbconvert_exporter": "python",
   "pygments_lexer": "ipython3",
   "version": "3.8.10"
  }
 },
 "nbformat": 4,
 "nbformat_minor": 2
}
